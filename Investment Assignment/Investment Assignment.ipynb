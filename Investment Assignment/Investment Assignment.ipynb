{
 "cells": [
  {
   "cell_type": "code",
   "execution_count": 108,
   "id": "58be8669",
   "metadata": {},
   "outputs": [],
   "source": [
    "#import Libraries\n",
    "\n",
    "import pandas as pd\n",
    "import matplotlib.pyplot as plt\n",
    "import numpy as np"
   ]
  },
  {
   "cell_type": "code",
   "execution_count": 109,
   "id": "305ddd3c",
   "metadata": {},
   "outputs": [],
   "source": [
    "#Import csvs\n",
    "\n",
    "companies = pd.read_csv('companies.csv')\n",
    "rounds2 = pd.read_csv('rounds2.csv')\n",
    "mapping = pd.read_csv('mapping.csv')"
   ]
  },
  {
   "cell_type": "code",
   "execution_count": 110,
   "id": "61a802c5",
   "metadata": {},
   "outputs": [
    {
     "name": "stdout",
     "output_type": "stream",
     "text": [
      "(66368, 10)\n",
      "(114949, 6)\n"
     ]
    }
   ],
   "source": [
    "#Print Shape\n",
    "\n",
    "print(companies.shape)\n",
    "print(rounds2.shape)"
   ]
  },
  {
   "cell_type": "code",
   "execution_count": 111,
   "id": "f308e03c",
   "metadata": {},
   "outputs": [],
   "source": [
    "#Rename columns to match\n",
    "\n",
    "rounds2.rename(columns={'company_permalink' : 'permalink'}, inplace=True)"
   ]
  },
  {
   "cell_type": "code",
   "execution_count": 112,
   "id": "99a5006c",
   "metadata": {},
   "outputs": [],
   "source": [
    "#Casefold to cleanup data and match unique IDs\n",
    "\n",
    "companies['permalink'] = companies['permalink'].str.casefold()\n",
    "rounds2['permalink'] = rounds2['permalink'].str.casefold()"
   ]
  },
  {
   "cell_type": "code",
   "execution_count": 113,
   "id": "d80c09d5",
   "metadata": {},
   "outputs": [
    {
     "name": "stdout",
     "output_type": "stream",
     "text": [
      "66368\n",
      "66373\n"
     ]
    }
   ],
   "source": [
    "#Check Unique no. of companies\n",
    "\n",
    "print(companies['permalink'].nunique())\n",
    "print(rounds2['permalink'].nunique())"
   ]
  },
  {
   "cell_type": "code",
   "execution_count": 114,
   "id": "d616eddf",
   "metadata": {},
   "outputs": [
    {
     "data": {
      "text/plain": [
       "permalink                  39\n",
       "funding_round_permalink    40\n",
       "funding_round_type          7\n",
       "funding_round_code          2\n",
       "funded_at                  37\n",
       "raised_amount_usd          21\n",
       "dtype: int64"
      ]
     },
     "execution_count": 114,
     "metadata": {},
     "output_type": "execute_result"
    }
   ],
   "source": [
    "#Check how many companies in 'Rounds2' are not present in 'Companies'\n",
    "\n",
    "rounds2[~rounds2['permalink'].str.casefold().isin(companies['permalink'].str.casefold())].nunique()"
   ]
  },
  {
   "cell_type": "code",
   "execution_count": 115,
   "id": "8b5f5e78",
   "metadata": {},
   "outputs": [
    {
     "data": {
      "text/plain": [
       "(114949, 15)"
      ]
     },
     "execution_count": 115,
     "metadata": {},
     "output_type": "execute_result"
    }
   ],
   "source": [
    "#Create MasterFrame\n",
    "\n",
    "master_frame = pd.merge(rounds2, companies, on='permalink', how='left')\n",
    "master_frame.shape"
   ]
  },
  {
   "cell_type": "code",
   "execution_count": 116,
   "id": "53619764",
   "metadata": {},
   "outputs": [
    {
     "data": {
      "text/plain": [
       "venture                  55494\n",
       "seed                     30524\n",
       "debt_financing            6895\n",
       "angel                     6094\n",
       "undisclosed               4897\n",
       "equity_crowdfunding       3257\n",
       "private_equity            2285\n",
       "grant                     2200\n",
       "convertible_note          1817\n",
       "post_ipo_equity            638\n",
       "product_crowdfunding       410\n",
       "non_equity_assistance      191\n",
       "post_ipo_debt              152\n",
       "secondary_market            95\n",
       "Name: funding_round_type, dtype: int64"
      ]
     },
     "execution_count": 116,
     "metadata": {},
     "output_type": "execute_result"
    }
   ],
   "source": [
    "master_frame['funding_round_type'].value_counts()"
   ]
  },
  {
   "cell_type": "code",
   "execution_count": 117,
   "id": "2eb02486",
   "metadata": {},
   "outputs": [],
   "source": [
    "#Group by investment Type\n",
    "\n",
    "funding_type = master_frame.groupby('funding_round_type')"
   ]
  },
  {
   "cell_type": "code",
   "execution_count": 118,
   "id": "1ad809a3",
   "metadata": {},
   "outputs": [
    {
     "name": "stdout",
     "output_type": "stream",
     "text": [
      "11748949.129489528\n",
      "5000000.0\n"
     ]
    }
   ],
   "source": [
    "#Check Representative Values of Venture, Seed, Angel, Private Equity\n",
    "\n",
    "ven_med = funding_type.get_group('venture')['raised_amount_usd'].median()\n",
    "ven_mean = funding_type.get_group('venture')['raised_amount_usd'].mean()\n",
    "print(ven_mean)\n",
    "print(ven_med)"
   ]
  },
  {
   "cell_type": "code",
   "execution_count": 119,
   "id": "25b8e089",
   "metadata": {},
   "outputs": [
    {
     "name": "stdout",
     "output_type": "stream",
     "text": [
      "719817.9969071728\n",
      "275000.0\n"
     ]
    }
   ],
   "source": [
    "seed_med = funding_type.get_group('seed')['raised_amount_usd'].median()\n",
    "seed_mean = funding_type.get_group('seed')['raised_amount_usd'].mean()\n",
    "print(seed_mean)\n",
    "print(seed_med)"
   ]
  },
  {
   "cell_type": "code",
   "execution_count": 120,
   "id": "d9620334",
   "metadata": {},
   "outputs": [
    {
     "name": "stdout",
     "output_type": "stream",
     "text": [
      "958694.4697530865\n",
      "400000.0\n"
     ]
    }
   ],
   "source": [
    "angel_med = funding_type.get_group('angel')['raised_amount_usd'].median()\n",
    "angel_mean = funding_type.get_group('angel')['raised_amount_usd'].mean()\n",
    "print(angel_mean)\n",
    "print(angel_med)"
   ]
  },
  {
   "cell_type": "code",
   "execution_count": 121,
   "id": "3add89dd",
   "metadata": {},
   "outputs": [
    {
     "name": "stdout",
     "output_type": "stream",
     "text": [
      "73308593.02944215\n",
      "20000000.0\n"
     ]
    }
   ],
   "source": [
    "priv_med = funding_type.get_group('private_equity')['raised_amount_usd'].median()\n",
    "priv_mean = funding_type.get_group('private_equity')['raised_amount_usd'].mean()\n",
    "print(priv_mean)\n",
    "print(priv_med)"
   ]
  },
  {
   "cell_type": "code",
   "execution_count": 122,
   "id": "f2484398",
   "metadata": {},
   "outputs": [
    {
     "data": {
      "text/plain": [
       "<AxesSubplot:>"
      ]
     },
     "execution_count": 122,
     "metadata": {},
     "output_type": "execute_result"
    },
    {
     "data": {
      "image/png": "[encoded data removed]",
      "text/plain": [
       "<Figure size 1080x1080 with 1 Axes>"
      ]
     },
     "metadata": {
      "needs_background": "light"
     },
     "output_type": "display_data"
    }
   ],
   "source": [
    "#Plot of investment types to show the best choice\n",
    "\n",
    "median = [ven_med, seed_med, angel_med, priv_med]\n",
    "mean = [ven_mean, seed_mean, angel_mean, priv_mean]\n",
    "index = ['Venture', 'Seed', 'Angel','Private Equity']\n",
    "plot1 = pd.DataFrame({'Median': median, 'mean': mean}, index=index)\n",
    "plot1.plot.bar(rot=0, figsize=(15,15))"
   ]
  },
  {
   "cell_type": "code",
   "execution_count": null,
   "id": "ae112d5a",
   "metadata": {},
   "outputs": [],
   "source": []
  },
  {
   "cell_type": "code",
   "execution_count": 123,
   "id": "e0cf5ce3",
   "metadata": {},
   "outputs": [],
   "source": [
    "funding_type = master_frame.groupby('funding_round_type')"
   ]
  },
  {
   "cell_type": "code",
   "execution_count": 124,
   "id": "515aa27e",
   "metadata": {},
   "outputs": [],
   "source": [
    "#Create a dataframe with only Ventue Investments\n",
    "\n",
    "venture_frame = funding_type.get_group('venture')"
   ]
  },
  {
   "cell_type": "code",
   "execution_count": 125,
   "id": "a739b806",
   "metadata": {},
   "outputs": [],
   "source": [
    "#Groupby Countries\n",
    "\n",
    "countries_frame = venture_frame.groupby('country_code')"
   ]
  },
  {
   "cell_type": "code",
   "execution_count": 126,
   "id": "cfe5ec23",
   "metadata": {},
   "outputs": [
    {
     "data": {
      "text/plain": [
       "country_code\n",
       "USA    4.225108e+11\n",
       "CHN    3.983542e+10\n",
       "GBR    2.024563e+10\n",
       "IND    1.439186e+10\n",
       "CAN    9.583332e+09\n",
       "FRA    7.259537e+09\n",
       "ISR    6.907515e+09\n",
       "DEU    6.346960e+09\n",
       "JPN    3.363677e+09\n",
       "Name: raised_amount_usd, dtype: float64"
      ]
     },
     "execution_count": 126,
     "metadata": {},
     "output_type": "execute_result"
    }
   ],
   "source": [
    "#Top9 Heavily invested companies\n",
    "\n",
    "countries_top9 = countries_frame['raised_amount_usd'].sum().sort_values(ascending=False).head(9)\n",
    "countries_top9"
   ]
  },
  {
   "cell_type": "code",
   "execution_count": 127,
   "id": "a0c46809",
   "metadata": {},
   "outputs": [
    {
     "data": {
      "text/plain": [
       "<AxesSubplot:>"
      ]
     },
     "execution_count": 127,
     "metadata": {},
     "output_type": "execute_result"
    },
    {
     "data": {
      "image/png": "[encoded data removed]",
      "text/plain": [
       "<Figure size 1080x1080 with 1 Axes>"
      ]
     },
     "metadata": {
      "needs_background": "light"
     },
     "output_type": "display_data"
    }
   ],
   "source": [
    "#Plot to show the amounts invested in each Countries of the Top9\n",
    "\n",
    "list_contname = ['USA', 'CHN', 'GBR', 'IND', 'CAN', 'FRA', 'ISR', 'DEU', 'JAP']\n",
    "list_cont = [i for i in countries_top9.head(9)]\n",
    "plot2 = pd.DataFrame({'Total Investment': list_cont}, index=list_contname)\n",
    "plot2.plot.bar(rot=0, figsize=(15,15))"
   ]
  },
  {
   "cell_type": "code",
   "execution_count": 128,
   "id": "3415e39c",
   "metadata": {},
   "outputs": [],
   "source": [
    "#Picking the top 3 English Speaking Countries\n",
    "\n",
    "countries_top3_list = ['USA', 'GBR', 'CAN']\n",
    "countries_top3 = venture_frame[venture_frame['country_code'].isin(countries_top3_list)]"
   ]
  },
  {
   "cell_type": "code",
   "execution_count": null,
   "id": "b355df31",
   "metadata": {},
   "outputs": [],
   "source": []
  },
  {
   "cell_type": "code",
   "execution_count": null,
   "id": "d90481dc",
   "metadata": {},
   "outputs": [],
   "source": []
  },
  {
   "cell_type": "code",
   "execution_count": 129,
   "id": "3a6070f3",
   "metadata": {},
   "outputs": [
    {
     "name": "stderr",
     "output_type": "stream",
     "text": [
      "<ipython-input-129-d1f26712766b>:3: SettingWithCopyWarning: \n",
      "A value is trying to be set on a copy of a slice from a DataFrame.\n",
      "Try using .loc[row_indexer,col_indexer] = value instead\n",
      "\n",
      "See the caveats in the documentation: https://pandas.pydata.org/pandas-docs/stable/user_guide/indexing.html#returning-a-view-versus-a-copy\n",
      "  countries_top3['primary_sector'] = countries_top3['category_list'].str.split('|').str[0]\n"
     ]
    }
   ],
   "source": [
    "#Creating a Primary Sector Column\n",
    "\n",
    "countries_top3['primary_sector'] = countries_top3['category_list'].str.split('|').str[0]"
   ]
  },
  {
   "cell_type": "code",
   "execution_count": 130,
   "id": "ef88a52b",
   "metadata": {},
   "outputs": [
    {
     "data": {
      "text/plain": [
       "['Automotive & Sports',\n",
       " 'Blanks',\n",
       " 'Cleantech / Semiconductors',\n",
       " 'Entertainment',\n",
       " 'Health',\n",
       " 'Manufacturing',\n",
       " 'News, Search and Messaging',\n",
       " 'Others',\n",
       " 'Social, Finance, Analytics, Advertising']"
      ]
     },
     "execution_count": 130,
     "metadata": {},
     "output_type": "execute_result"
    }
   ],
   "source": [
    "#Create a list of major sectors\n",
    "\n",
    "sector_list1 = mapping.columns.to_list()\n",
    "sector_list1.remove('category_list')\n",
    "sector_list1"
   ]
  },
  {
   "cell_type": "code",
   "execution_count": 131,
   "id": "4a77ba7d",
   "metadata": {},
   "outputs": [],
   "source": [
    "#Create a column 'Type' mapping dataframe to assingn each row to one of the primary sectors based on key\n",
    "\n",
    "for i in sector_list1:\n",
    "    mapping.loc[mapping[i] == 1, 'Type'] = i"
   ]
  },
  {
   "cell_type": "code",
   "execution_count": null,
   "id": "9e52de1c",
   "metadata": {},
   "outputs": [],
   "source": []
  },
  {
   "cell_type": "code",
   "execution_count": 132,
   "id": "ca52ef68",
   "metadata": {},
   "outputs": [],
   "source": [
    "#Create a mapping Dictionary\n",
    "\n",
    "mapping_dict = dict(zip(mapping['category_list'], mapping['Type']))"
   ]
  },
  {
   "cell_type": "code",
   "execution_count": 133,
   "id": "99df7d64",
   "metadata": {},
   "outputs": [
    {
     "name": "stderr",
     "output_type": "stream",
     "text": [
      "<ipython-input-133-3fb40b270fae>:3: SettingWithCopyWarning: \n",
      "A value is trying to be set on a copy of a slice from a DataFrame.\n",
      "Try using .loc[row_indexer,col_indexer] = value instead\n",
      "\n",
      "See the caveats in the documentation: https://pandas.pydata.org/pandas-docs/stable/user_guide/indexing.html#returning-a-view-versus-a-copy\n",
      "  countries_top3['primary_sector'] = countries_top3['primary_sector'].map(mapping_dict)\n"
     ]
    }
   ],
   "source": [
    "#Map the companies to a primary_sector \n",
    "\n",
    "countries_top3['primary_sector'] = countries_top3['primary_sector'].map(mapping_dict)"
   ]
  },
  {
   "cell_type": "code",
   "execution_count": null,
   "id": "9bf18d8c",
   "metadata": {},
   "outputs": [],
   "source": []
  },
  {
   "cell_type": "code",
   "execution_count": 134,
   "id": "e8b2e86b",
   "metadata": {},
   "outputs": [],
   "source": [
    "#Seperating the dataframe by countries\n",
    "frame_USA = countries_top3[countries_top3['country_code'] == 'USA']\n",
    "frame_GBR = countries_top3[countries_top3['country_code'] == 'GBR']\n",
    "frame_CAN = countries_top3[countries_top3['country_code'] == 'CAN']"
   ]
  },
  {
   "cell_type": "code",
   "execution_count": 135,
   "id": "39a5f363",
   "metadata": {},
   "outputs": [],
   "source": [
    "#Dropping all rows with nan investment\n",
    "frame_USA = frame_USA[frame_USA['raised_amount_usd'].notna() == True]\n",
    "frame_GBR = frame_GBR[frame_GBR['raised_amount_usd'].notna() == True]\n",
    "frame_CAN = frame_CAN[frame_CAN['raised_amount_usd'].notna() == True]"
   ]
  },
  {
   "cell_type": "code",
   "execution_count": 136,
   "id": "c29b70f7",
   "metadata": {},
   "outputs": [
    {
     "name": "stdout",
     "output_type": "stream",
     "text": [
      "36139\n",
      "2055\n",
      "1256\n"
     ]
    }
   ],
   "source": [
    "#No. of investments for each country\n",
    "print(frame_USA['raised_amount_usd'].count())\n",
    "print(frame_GBR['raised_amount_usd'].count())\n",
    "print(frame_CAN['raised_amount_usd'].count())"
   ]
  },
  {
   "cell_type": "code",
   "execution_count": 137,
   "id": "18573e7d",
   "metadata": {},
   "outputs": [
    {
     "name": "stdout",
     "output_type": "stream",
     "text": [
      "422510842796.0\n",
      "20245627416.0\n",
      "9583332317.0\n"
     ]
    }
   ],
   "source": [
    "#Amount of investment in each country\n",
    "print(frame_USA['raised_amount_usd'].sum())\n",
    "print(frame_GBR['raised_amount_usd'].sum())\n",
    "print(frame_CAN['raised_amount_usd'].sum())"
   ]
  },
  {
   "cell_type": "code",
   "execution_count": null,
   "id": "42cb9825",
   "metadata": {},
   "outputs": [],
   "source": []
  },
  {
   "cell_type": "code",
   "execution_count": 138,
   "id": "8ff835c6",
   "metadata": {},
   "outputs": [],
   "source": [
    "#Groupby primary sector for each of the top 3 countries\n",
    "\n",
    "frame_USA_Sector = frame_USA.groupby('primary_sector', sort=True)\n",
    "frame_GBR_Sector = frame_GBR.groupby('primary_sector', sort=True)\n",
    "frame_CAN_Sector = frame_CAN.groupby('primary_sector', sort=True)"
   ]
  },
  {
   "cell_type": "code",
   "execution_count": null,
   "id": "cf28dd3b",
   "metadata": {},
   "outputs": [],
   "source": []
  },
  {
   "cell_type": "code",
   "execution_count": 139,
   "id": "7cbd05f0",
   "metadata": {},
   "outputs": [
    {
     "data": {
      "text/plain": [
       "primary_sector\n",
       "Others                                     8243\n",
       "Cleantech / Semiconductors                 7849\n",
       "Social, Finance, Analytics, Advertising    5156\n",
       "News, Search and Messaging                 4301\n",
       "Health                                     3263\n",
       "Manufacturing                              2453\n",
       "Entertainment                              1756\n",
       "Automotive & Sports                         505\n",
       "Blanks                                      196\n",
       "Name: raised_amount_usd, dtype: int64"
      ]
     },
     "execution_count": 139,
     "metadata": {},
     "output_type": "execute_result"
    }
   ],
   "source": [
    "frame_USA_Sector['raised_amount_usd'].count().sort_values(ascending=False)"
   ]
  },
  {
   "cell_type": "code",
   "execution_count": 140,
   "id": "32f856b3",
   "metadata": {},
   "outputs": [
    {
     "data": {
      "text/plain": [
       "primary_sector\n",
       "Others                                     507\n",
       "Cleantech / Semiconductors                 433\n",
       "Social, Finance, Analytics, Advertising    318\n",
       "News, Search and Messaging                 241\n",
       "Entertainment                              133\n",
       "Manufacturing                              122\n",
       "Health                                     118\n",
       "Automotive & Sports                         44\n",
       "Blanks                                      14\n",
       "Name: raised_amount_usd, dtype: int64"
      ]
     },
     "execution_count": 140,
     "metadata": {},
     "output_type": "execute_result"
    }
   ],
   "source": [
    "frame_GBR_Sector['raised_amount_usd'].count().sort_values(ascending=False)"
   ]
  },
  {
   "cell_type": "code",
   "execution_count": 141,
   "id": "c571fa56",
   "metadata": {},
   "outputs": [
    {
     "data": {
      "text/plain": [
       "primary_sector\n",
       "Cleantech / Semiconductors                 329\n",
       "Others                                     326\n",
       "Social, Finance, Analytics, Advertising    164\n",
       "News, Search and Messaging                 132\n",
       "Manufacturing                              100\n",
       "Health                                      61\n",
       "Entertainment                               50\n",
       "Automotive & Sports                         14\n",
       "Blanks                                      10\n",
       "Name: raised_amount_usd, dtype: int64"
      ]
     },
     "execution_count": 141,
     "metadata": {},
     "output_type": "execute_result"
    }
   ],
   "source": [
    "frame_CAN_Sector['raised_amount_usd'].count().sort_values(ascending=False)"
   ]
  },
  {
   "cell_type": "code",
   "execution_count": 142,
   "id": "132c1574",
   "metadata": {
    "scrolled": true
   },
   "outputs": [
    {
     "name": "stdout",
     "output_type": "stream",
     "text": [
      "SoFi\n",
      "OneWeb\n",
      "Ram Power\n"
     ]
    }
   ],
   "source": [
    "#Highest Company in top sector\n",
    "print(master_frame.loc[frame_USA_Sector.get_group('Others')['raised_amount_usd'].idxmax(), 'name'])\n",
    "print(master_frame.loc[frame_GBR_Sector.get_group('Others')['raised_amount_usd'].idxmax(), 'name'])\n",
    "print(master_frame.loc[frame_CAN_Sector.get_group('Cleantech / Semiconductors')['raised_amount_usd'].idxmax(), 'name'])"
   ]
  },
  {
   "cell_type": "code",
   "execution_count": 143,
   "id": "1d6340aa",
   "metadata": {},
   "outputs": [
    {
     "name": "stdout",
     "output_type": "stream",
     "text": [
      "Freescale Semiconductor\n",
      "Immunocore\n",
      "D2L\n"
     ]
    }
   ],
   "source": [
    "#Highest Comapny in Second Sector\n",
    "print(master_frame.loc[frame_USA_Sector.get_group('Cleantech / Semiconductors')['raised_amount_usd'].idxmax(), 'name'])\n",
    "print(master_frame.loc[frame_GBR_Sector.get_group('Cleantech / Semiconductors')['raised_amount_usd'].idxmax(), 'name'])\n",
    "print(master_frame.loc[frame_CAN_Sector.get_group('Others')['raised_amount_usd'].idxmax(), 'name'])"
   ]
  },
  {
   "cell_type": "code",
   "execution_count": null,
   "id": "ff483ba9",
   "metadata": {},
   "outputs": [],
   "source": []
  },
  {
   "cell_type": "code",
   "execution_count": 144,
   "id": "2284746c",
   "metadata": {
    "scrolled": false
   },
   "outputs": [],
   "source": [
    "#No of investments for the top 3 sectors for plotting\n",
    "top3_sectors = ['Others', 'Cleantech / Semiconductors', 'Social, Finance, Analytics, Advertising']\n",
    "USA = [8243, 7849, 6431]\n",
    "GBR = [507, 433, 358]\n",
    "CAN = [326, 329, 199]"
   ]
  },
  {
   "cell_type": "code",
   "execution_count": 145,
   "id": "d58337ad",
   "metadata": {},
   "outputs": [
    {
     "data": {
      "text/plain": [
       "<AxesSubplot:>"
      ]
     },
     "execution_count": 145,
     "metadata": {},
     "output_type": "execute_result"
    },
    {
     "data": {
      "image/png": "[encoded data removed]",
      "text/plain": [
       "<Figure size 1080x1080 with 1 Axes>"
      ]
     },
     "metadata": {
      "needs_background": "light"
     },
     "output_type": "display_data"
    }
   ],
   "source": [
    "plot4 = pd.DataFrame({'USA': USA, 'GBR': GBR, 'CAN': CAN}, index=top3_sectors)\n",
    "plot4.plot.bar(rot=0, figsize=(15,15))"
   ]
  },
  {
   "cell_type": "code",
   "execution_count": null,
   "id": "a8e36466",
   "metadata": {},
   "outputs": [],
   "source": []
  },
  {
   "cell_type": "code",
   "execution_count": null,
   "id": "5f70c771",
   "metadata": {},
   "outputs": [],
   "source": []
  },
  {
   "cell_type": "code",
   "execution_count": null,
   "id": "8d7e2385",
   "metadata": {},
   "outputs": [],
   "source": []
  },
  {
   "cell_type": "code",
   "execution_count": null,
   "id": "f062745b",
   "metadata": {},
   "outputs": [],
   "source": []
  },
  {
   "cell_type": "code",
   "execution_count": null,
   "id": "05bc1a6e",
   "metadata": {},
   "outputs": [],
   "source": []
  },
  {
   "cell_type": "code",
   "execution_count": null,
   "id": "7bfa37ae",
   "metadata": {},
   "outputs": [],
   "source": []
  },
  {
   "cell_type": "code",
   "execution_count": null,
   "id": "3c4e3447",
   "metadata": {},
   "outputs": [],
   "source": []
  },
  {
   "cell_type": "code",
   "execution_count": null,
   "id": "5a7a6e42",
   "metadata": {},
   "outputs": [],
   "source": []
  },
  {
   "cell_type": "code",
   "execution_count": null,
   "id": "372c5b37",
   "metadata": {},
   "outputs": [],
   "source": []
  },
  {
   "cell_type": "code",
   "execution_count": null,
   "id": "fd28dada",
   "metadata": {},
   "outputs": [],
   "source": []
  }
 ],
 "metadata": {
  "kernelspec": {
   "display_name": "Python 3",
   "language": "python",
   "name": "python3"
  },
  "language_info": {
   "codemirror_mode": {
    "name": "ipython",
    "version": 3
   },
   "file_extension": ".py",
   "mimetype": "text/x-python",
   "name": "python",
   "nbconvert_exporter": "python",
   "pygments_lexer": "ipython3",
   "version": "3.8.8"
  }
 },
 "nbformat": 4,
 "nbformat_minor": 5
}
